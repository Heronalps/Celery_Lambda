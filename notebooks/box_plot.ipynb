{
 "cells": [
  {
   "cell_type": "code",
   "execution_count": 1,
   "metadata": {},
   "outputs": [],
   "source": [
    "import pandas as pd, numpy as np\n",
    "import re\n",
    "from matplotlib import pyplot as plt"
   ]
  },
  {
   "cell_type": "code",
   "execution_count": 2,
   "metadata": {},
   "outputs": [],
   "source": [
    "cyan_diamond = dict(markerfacecolor='c', marker='D')\n",
    "blue_diamond = dict(markerfacecolor='b', marker='D')\n",
    "magenta_diamond = dict(markerfacecolor='m', marker='D')"
   ]
  },
  {
   "cell_type": "code",
   "execution_count": 3,
   "metadata": {},
   "outputs": [],
   "source": [
    "def parse(file_path, pattern=\"Accuracy Score\"):\n",
    "    scores = []\n",
    "    count = 0\n",
    "    print (file_path)\n",
    "    with open(file_path, 'r') as f:\n",
    "        line = f.readline()\n",
    "        while line:\n",
    "            count = count + 1\n",
    "            # print (\"count : {0}\".format(count))\n",
    "            match = re.search(pattern + \"\\s*:* (\\d*..*)\", line)\n",
    "            \n",
    "            if match:\n",
    "                score = float(match.group(1))\n",
    "                # print (\"score : {0}\".format(score))\n",
    "                scores.append(score)\n",
    "            line = f.readline()\n",
    "\n",
    "    return scores"
   ]
  },
  {
   "cell_type": "code",
   "execution_count": 4,
   "metadata": {},
   "outputs": [],
   "source": [
    "def parse_metric(file_path):\n",
    "    group_metrics = []\n",
    "    with open(file_path, 'r') as f:\n",
    "        message = f.readline()\n",
    "        while message:            \n",
    "            if message.startswith('REPORT'):\n",
    "                duration = re.search(r'(?<=\\tDuration:\\s)(.*?)(?=\\sms)', message).group(0)\n",
    "                billed_duration = re.search(r'(?<=\\tBilled\\sDuration:\\s)(.*?)(?=\\sms)', message).group(0)\n",
    "\n",
    "                # Megabytes\n",
    "                memory_size = re.search(r'(?<=\\tMemory\\sSize:\\s)(.*?)(?=\\sMB)', message).group(0)\n",
    "                max_memory_used = re.search(r'(?<=\\tMax\\sMemory\\sUsed:\\s)(.*?)(?=\\sMB)', message).group(0)\n",
    "\n",
    "                metrics = {\n",
    "                    'duration': duration,\n",
    "                    'billed_duration': billed_duration,\n",
    "                    'memory_size': memory_size,\n",
    "                    'max_memory_used':max_memory_used\n",
    "                }\n",
    "                group_metrics.append(metrics)\n",
    "\n",
    "            message = f.readline()\n",
    "\n",
    "    return group_metrics"
   ]
  },
  {
   "cell_type": "code",
   "execution_count": 5,
   "metadata": {},
   "outputs": [],
   "source": [
    "def retrieve_result(file_path):\n",
    "    total_duration = 0\n",
    "    total_billed_duration = 0\n",
    "    total_max_memory_used = 0\n",
    "    max_memory_used = 0\n",
    "    memory_size = 0\n",
    "    group_metrics = parse_metric(file_path)\n",
    "    invoke_time = len(group_metrics)\n",
    "\n",
    "    for metrics in group_metrics:\n",
    "        total_duration += float(metrics['duration'])\n",
    "        total_billed_duration += float(metrics['billed_duration'])\n",
    "        temp = int(metrics['max_memory_used'])\n",
    "        total_max_memory_used = total_max_memory_used + temp\n",
    "        \n",
    "        if temp > max_memory_used:\n",
    "            max_memory_used = temp\n",
    "        memory_size = int(metrics['memory_size'])\n",
    "    \n",
    "    duration_per_invocation = total_duration / invoke_time\n",
    "    compute_charge = total_billed_duration * 0.001 * (memory_size / 1024)\n",
    "    \n",
    "    # cost = compute charge + request charge\n",
    "    cost = 0.00001667 * compute_charge\n",
    "\n",
    "    # Other metrics can be calculated here:\n",
    "    # Total / Average / Stdev of metrics\n",
    "    \n",
    "\n",
    "    metrics = {\n",
    "        \"total_duration\" : total_duration, \n",
    "        \"total_billed_duration\" : total_billed_duration,\n",
    "        \"average_billed_duration\" : total_billed_duration / invoke_time,\n",
    "        \"average_max_memory_used\" : total_max_memory_used / invoke_time,\n",
    "        \"max_memory_used\" : max_memory_used, \n",
    "        \"memory_size\" : memory_size, \n",
    "        \"duration_per_invocation\" : duration_per_invocation, \n",
    "        \"compute_charge\" : compute_charge,\n",
    "        \"cost\" : cost,\n",
    "        \"invoke_time\" : invoke_time\n",
    "    }\n",
    "\n",
    "    print (metrics)"
   ]
  },
  {
   "cell_type": "markdown",
   "metadata": {},
   "source": [
    "## Metric Calculation"
   ]
  },
  {
   "cell_type": "code",
   "execution_count": 19,
   "metadata": {},
   "outputs": [
    {
     "name": "stdout",
     "output_type": "stream",
     "text": [
      "{'total_duration': 3313931.5199999977, 'total_billed_duration': 3326000.0, 'average_billed_duration': 13043.137254901962, 'average_max_memory_used': 344.4627450980392, 'max_memory_used': 371, 'memory_size': 1024, 'duration_per_invocation': 12995.809882352933, 'compute_charge': 3326.0, 'cost': 0.05544442, 'invoke_time': 255}\n"
     ]
    }
   ],
   "source": [
    "retrieve_result(\"../cloudwatch/Opt_Memory/Multi_Regression_log_255.txt\")"
   ]
  },
  {
   "cell_type": "code",
   "execution_count": 20,
   "metadata": {},
   "outputs": [
    {
     "name": "stdout",
     "output_type": "stream",
     "text": [
      "{'total_duration': 10820352.170000004, 'total_billed_duration': 10840300.0, 'average_billed_duration': 28229.947916666668, 'average_max_memory_used': 293.0442708333333, 'max_memory_used': 303, 'memory_size': 1664, 'duration_per_invocation': 28178.000442708344, 'compute_charge': 17615.487500000003, 'cost': 0.2936501766250001, 'invoke_time': 384}\n"
     ]
    }
   ],
   "source": [
    "retrieve_result(\"../cloudwatch/Opt_Memory/Prophet_log_384.txt\")"
   ]
  },
  {
   "cell_type": "code",
   "execution_count": 31,
   "metadata": {},
   "outputs": [
    {
     "name": "stdout",
     "output_type": "stream",
     "text": [
      "{'total_duration': 1735711.1200000008, 'total_billed_duration': 1757000.0, 'average_billed_duration': 4067.1296296296296, 'average_max_memory_used': 324.18055555555554, 'max_memory_used': 336, 'memory_size': 1856, 'duration_per_invocation': 4017.849814814817, 'compute_charge': 3184.5625, 'cost': 0.053086656875000006, 'invoke_time': 432}\n"
     ]
    }
   ],
   "source": [
    "retrieve_result(\"../cloudwatch/Opt_Memory/20_Test/Neural_Network_log_432.txt\")"
   ]
  },
  {
   "cell_type": "code",
   "execution_count": 27,
   "metadata": {},
   "outputs": [
    {
     "name": "stdout",
     "output_type": "stream",
     "text": [
      "{'total_duration': 454958.9600000004, 'total_billed_duration': 482000.0, 'average_billed_duration': 941.40625, 'average_max_memory_used': 198.4375, 'max_memory_used': 206, 'memory_size': 832, 'duration_per_invocation': 888.5917187500008, 'compute_charge': 391.625, 'cost': 0.006528388750000001, 'invoke_time': 512}\n"
     ]
    }
   ],
   "source": [
    "retrieve_result(\"../cloudwatch/Opt_Memory/20_Test/SVC_log_512.txt\")"
   ]
  },
  {
   "cell_type": "code",
   "execution_count": 8,
   "metadata": {},
   "outputs": [
    {
     "name": "stdout",
     "output_type": "stream",
     "text": [
      "{'total_duration': 19042538.369999986, 'total_billed_duration': 19082200.0, 'average_billed_duration': 24846.614583333332, 'average_max_memory_used': 229.28255208333334, 'max_memory_used': 239, 'memory_size': 1280, 'duration_per_invocation': 24794.971835937482, 'compute_charge': 23852.75, 'cost': 0.39762534250000003, 'invoke_time': 768}\n"
     ]
    }
   ],
   "source": [
    "retrieve_result(\"../cloudwatch/Opt_Memory/20_Test/XGBoost_log_768.txt\")"
   ]
  },
  {
   "cell_type": "markdown",
   "metadata": {},
   "source": [
    "## Max Memory Metric"
   ]
  },
  {
   "cell_type": "code",
   "execution_count": 16,
   "metadata": {},
   "outputs": [
    {
     "name": "stdout",
     "output_type": "stream",
     "text": [
      "{'total_duration': 2441901.7899999986, 'total_billed_duration': 2454600.0, 'average_billed_duration': 9625.882352941177, 'average_max_memory_used': 315.7450980392157, 'max_memory_used': 338, 'memory_size': 3008, 'duration_per_invocation': 9576.085450980387, 'compute_charge': 7210.3875, 'cost': 0.12019715962500001, 'invoke_time': 255}\n"
     ]
    }
   ],
   "source": [
    "retrieve_result(\"../cloudwatch/Max_Memory/Multi_Regression_log_max.txt\")"
   ]
  },
  {
   "cell_type": "code",
   "execution_count": 23,
   "metadata": {},
   "outputs": [
    {
     "name": "stdout",
     "output_type": "stream",
     "text": [
      "{'total_duration': 4506777.7, 'total_billed_duration': 4525300.0, 'average_billed_duration': 11784.635416666666, 'average_max_memory_used': 326.7604166666667, 'max_memory_used': 339, 'memory_size': 3008, 'duration_per_invocation': 11736.400260416667, 'compute_charge': 13293.06875, 'cost': 0.22159545606250003, 'invoke_time': 384}\n"
     ]
    }
   ],
   "source": [
    "retrieve_result(\"../cloudwatch/Max_Memory/Prophet_log_max.txt\")"
   ]
  },
  {
   "cell_type": "code",
   "execution_count": 13,
   "metadata": {},
   "outputs": [
    {
     "name": "stdout",
     "output_type": "stream",
     "text": [
      "{'total_duration': 12199164.299999988, 'total_billed_duration': 12237400.0, 'average_billed_duration': 15934.114583333334, 'average_max_memory_used': 224.30208333333334, 'max_memory_used': 240, 'memory_size': 3008, 'duration_per_invocation': 15884.328515624984, 'compute_charge': 35947.362499999996, 'cost': 0.599242532875, 'invoke_time': 768}\n"
     ]
    }
   ],
   "source": [
    "retrieve_result(\"../cloudwatch/Max_Memory/XGBoost_log_max.txt\")"
   ]
  },
  {
   "cell_type": "code",
   "execution_count": 41,
   "metadata": {},
   "outputs": [
    {
     "name": "stdout",
     "output_type": "stream",
     "text": [
      "{'total_duration': 1185575.1899999995, 'total_billed_duration': 1208000.0, 'average_billed_duration': 2796.296296296296, 'average_max_memory_used': 326.7986111111111, 'max_memory_used': 338, 'memory_size': 3008, 'duration_per_invocation': 2744.387013888888, 'compute_charge': 3548.5, 'cost': 0.05915349500000001, 'invoke_time': 432}\n"
     ]
    }
   ],
   "source": [
    "retrieve_result(\"../cloudwatch/Max_Memory/Neural_Network_log_max.txt\")"
   ]
  },
  {
   "cell_type": "code",
   "execution_count": 15,
   "metadata": {},
   "outputs": [
    {
     "name": "stdout",
     "output_type": "stream",
     "text": [
      "{'total_duration': 425815.93999999965, 'total_billed_duration': 451400.0, 'average_billed_duration': 881.640625, 'average_max_memory_used': 222.119140625, 'max_memory_used': 240, 'memory_size': 3008, 'duration_per_invocation': 831.6717578124993, 'compute_charge': 1325.9875000000002, 'cost': 0.022104211625000005, 'invoke_time': 512}\n"
     ]
    }
   ],
   "source": [
    "retrieve_result(\"../cloudwatch/Max_Memory/SVC_log_max.txt\")"
   ]
  },
  {
   "cell_type": "code",
   "execution_count": 11,
   "metadata": {
    "scrolled": true
   },
   "outputs": [
    {
     "name": "stdout",
     "output_type": "stream",
     "text": [
      "../cloudwatch/Opt_memory/20_Test/XGBoost_log_768.txt\n",
      "../cloudwatch/Opt_memory/20_Test/SVC_log_512.txt\n",
      "../cloudwatch/Opt_memory/20_Test/Neural_Network_log_432.txt\n"
     ]
    }
   ],
   "source": [
    "xgboost_scores = parse(\"../cloudwatch/Opt_memory/20_Test/XGBoost_log_768.txt\")\n",
    "svc_scores = parse(\"../cloudwatch/Opt_memory/20_Test/SVC_log_512.txt\")\n",
    "neural_network_scores = parse(\"../cloudwatch/Opt_memory/20_Test/Neural_Network_log_432.txt\")"
   ]
  },
  {
   "cell_type": "code",
   "execution_count": 7,
   "metadata": {},
   "outputs": [
    {
     "ename": "NameError",
     "evalue": "name 'xgboost_scores' is not defined",
     "output_type": "error",
     "traceback": [
      "\u001b[0;31m---------------------------------------------------------------------------\u001b[0m",
      "\u001b[0;31mNameError\u001b[0m                                 Traceback (most recent call last)",
      "\u001b[0;32m<ipython-input-7-501a73394fa0>\u001b[0m in \u001b[0;36m<module>\u001b[0;34m\u001b[0m\n\u001b[0;32m----> 1\u001b[0;31m \u001b[0mprint\u001b[0m\u001b[0;34m(\u001b[0m\u001b[0mmin\u001b[0m\u001b[0;34m(\u001b[0m\u001b[0mxgboost_scores\u001b[0m\u001b[0;34m)\u001b[0m\u001b[0;34m)\u001b[0m\u001b[0;34m\u001b[0m\u001b[0;34m\u001b[0m\u001b[0m\n\u001b[0m\u001b[1;32m      2\u001b[0m \u001b[0mprint\u001b[0m\u001b[0;34m(\u001b[0m\u001b[0mmax\u001b[0m\u001b[0;34m(\u001b[0m\u001b[0mxgboost_scores\u001b[0m\u001b[0;34m)\u001b[0m\u001b[0;34m)\u001b[0m\u001b[0;34m\u001b[0m\u001b[0;34m\u001b[0m\u001b[0m\n\u001b[1;32m      3\u001b[0m \u001b[0mprint\u001b[0m\u001b[0;34m(\u001b[0m\u001b[0mmin\u001b[0m\u001b[0;34m(\u001b[0m\u001b[0msvc_scores\u001b[0m\u001b[0;34m)\u001b[0m\u001b[0;34m)\u001b[0m\u001b[0;34m\u001b[0m\u001b[0;34m\u001b[0m\u001b[0m\n\u001b[1;32m      4\u001b[0m \u001b[0mprint\u001b[0m\u001b[0;34m(\u001b[0m\u001b[0mmax\u001b[0m\u001b[0;34m(\u001b[0m\u001b[0msvc_scores\u001b[0m\u001b[0;34m)\u001b[0m\u001b[0;34m)\u001b[0m\u001b[0;34m\u001b[0m\u001b[0;34m\u001b[0m\u001b[0m\n\u001b[1;32m      5\u001b[0m \u001b[0mprint\u001b[0m\u001b[0;34m(\u001b[0m\u001b[0mmin\u001b[0m\u001b[0;34m(\u001b[0m\u001b[0mneural_network_scores\u001b[0m\u001b[0;34m)\u001b[0m\u001b[0;34m)\u001b[0m\u001b[0;34m\u001b[0m\u001b[0;34m\u001b[0m\u001b[0m\n",
      "\u001b[0;31mNameError\u001b[0m: name 'xgboost_scores' is not defined"
     ]
    }
   ],
   "source": [
    "print(min(xgboost_scores))\n",
    "print(max(xgboost_scores))\n",
    "print(min(svc_scores))\n",
    "print(max(svc_scores))\n",
    "print(min(neural_network_scores))\n",
    "print(max(neural_network_scores))"
   ]
  },
  {
   "cell_type": "code",
   "execution_count": 12,
   "metadata": {},
   "outputs": [
    {
     "data": {
      "image/png": "[encoded data removed]",
      "text/plain": [
       "<Figure size 720x720 with 3 Axes>"
      ]
     },
     "metadata": {
      "needs_background": "light"
     },
     "output_type": "display_data"
    }
   ],
   "source": [
    "fig = plt.figure(figsize=[10, 10])\n",
    "xgboost_default = \n",
    "svc_default = \n",
    "\n",
    "\n",
    "ax1 = fig.add_subplot(131)\n",
    "ax1.boxplot(xgboost_scores, whis=2, usermedians=xgboost_deafult, labels = ['XGBoost'],\\\n",
    "            flierprops = cyan_diamond)\n",
    "ax1.spines['left'].set_color('green')\n",
    "ax1.tick_params(axis='both', colors='green', labelsize = 12)\n",
    "ax1.set_ylabel(\"Accuracy Score (0.2 test size)\", fontsize = 20)\n",
    "\n",
    "\n",
    "ax2 = fig.add_subplot(132)\n",
    "ax2.boxplot(svc_scores, whis=2, usermedians=[0.21768607221812822], labels = ['Support Vector Classification'], \\\n",
    "            flierprops = blue_diamond)\n",
    "ax2.spines['left'].set_color('blue')\n",
    "ax2.tick_params(axis='both', colors='blue', labelsize=12)\n",
    "\n",
    "ax3 = fig.add_subplot(133)\n",
    "ax3.boxplot(neural_network_scores, whis=2, usermedians=[0.8422991893883567], labels = ['Neural Network'], \\\n",
    "            flierprops = magenta_diamond)\n",
    "ax3.spines['left'].set_color('magenta')\n",
    "ax3.tick_params(axis='both', colors='magenta', labelsize=12)\n",
    "\n",
    "plt.show()\n",
    "fig.savefig(\"../box_plot_Accuracy_20.png\")"
   ]
  },
  {
   "cell_type": "code",
   "execution_count": 9,
   "metadata": {},
   "outputs": [
    {
     "name": "stdout",
     "output_type": "stream",
     "text": [
      "/Users/michaelzhang/Downloads/Seneca/cloudwatch/xgboost_123/log_1549830455.txt\n",
      "/Users/michaelzhang/Downloads/Seneca/cloudwatch/xgboost_456/log_1549867297.txt\n",
      "/Users/michaelzhang/Downloads/Seneca/cloudwatch/svc_123/log_1549868103.txt\n",
      "/Users/michaelzhang/Downloads/Seneca/cloudwatch/svc_456/log_1549902436.txt\n",
      "/Users/michaelzhang/Downloads/Seneca/cloudwatch/neural_network_123/log_1549840300.txt\n",
      "/Users/michaelzhang/Downloads/Seneca/cloudwatch/neural_network_456/log_1549851642.txt\n"
     ]
    }
   ],
   "source": [
    "xgboost_123_scores = parse(\"/Users/michaelzhang/Downloads/Seneca/cloudwatch/xgboost_123/log_1549830455.txt\")\n",
    "xgboost_456_scores = parse(\"/Users/michaelzhang/Downloads/Seneca/cloudwatch/xgboost_456/log_1549867297.txt\")\n",
    "svc_123_scores = parse(\"/Users/michaelzhang/Downloads/Seneca/cloudwatch/svc_123/log_1549868103.txt\")\n",
    "svc_456_scores = parse(\"/Users/michaelzhang/Downloads/Seneca/cloudwatch/svc_456/log_1549902436.txt\")\n",
    "neural_network_123_scores = parse(\"/Users/michaelzhang/Downloads/Seneca/cloudwatch/neural_network_123/log_1549840300.txt\")\n",
    "neural_network_456_scores = parse(\"/Users/michaelzhang/Downloads/Seneca/cloudwatch/neural_network_456/log_1549851642.txt\")\n",
    "\n",
    "\n"
   ]
  },
  {
   "cell_type": "code",
   "execution_count": 10,
   "metadata": {},
   "outputs": [
    {
     "name": "stdout",
     "output_type": "stream",
     "text": [
      "0.0\n",
      "0.9811348563006632\n",
      "0.0\n",
      "0.9770081061164333\n",
      "0.14075165806927045\n",
      "0.4081061164333088\n",
      "0.10036845983787768\n",
      "0.5411938098747237\n",
      "0.19145173176123803\n",
      "0.8331613854089904\n",
      "0.1939572586588062\n",
      "0.8392041267501842\n"
     ]
    }
   ],
   "source": [
    "print(min(xgboost_123_scores))\n",
    "print(max(xgboost_123_scores))\n",
    "print(min(xgboost_456_scores))\n",
    "print(max(xgboost_456_scores))\n",
    "print(min(svc_123_scores))\n",
    "print(max(svc_123_scores))\n",
    "print(min(svc_456_scores))\n",
    "print(max(svc_456_scores))\n",
    "print(min(neural_network_123_scores))\n",
    "print(max(neural_network_123_scores))\n",
    "print(min(neural_network_456_scores))\n",
    "print(max(neural_network_456_scores))"
   ]
  },
  {
   "cell_type": "code",
   "execution_count": 66,
   "metadata": {},
   "outputs": [
    {
     "data": {
      "image/png": "[encoded data removed]",
      "text/plain": [
       "<Figure size 720x720 with 3 Axes>"
      ]
     },
     "metadata": {
      "needs_background": "light"
     },
     "output_type": "display_data"
    }
   ],
   "source": [
    "fig = plt.figure(figsize=[10, 10])\n",
    "\n",
    "\n",
    "ax1 = fig.add_subplot(131)\n",
    "ax1.boxplot(xgboost_scores, whis=2, usermedians=[0.9507369196757554], labels = ['XGBoost'],\\\n",
    "            flierprops = cyan_diamond)\n",
    "ax1.spines['left'].set_color('green')\n",
    "ax1.tick_params(axis='both', colors='green', labelsize = 10)\n",
    "ax1.set_ylabel(\"Accuracy Score (0.8 test size)\", fontsize = 20)\n",
    "\n",
    "\n",
    "ax2 = fig.add_subplot(132)\n",
    "ax2.boxplot(svc_scores, whis=2, usermedians=[0.21308032424465734], labels = ['Support Vector Classification'], \\\n",
    "            flierprops = blue_diamond)\n",
    "ax2.spines['left'].set_color('blue')\n",
    "ax2.tick_params(axis='both', colors='blue', labelsize=10)\n",
    "\n",
    "ax3 = fig.add_subplot(133)\n",
    "ax3.boxplot(neural_network_scores, whis=2, usermedians=[0.5543846720707443], labels = ['Neural Network'], \\\n",
    "            flierprops = magenta_diamond)\n",
    "ax3.spines['left'].set_color('magenta')\n",
    "ax3.tick_params(axis='both', colors='magenta', labelsize=10)\n",
    "\n",
    "plt.show()\n",
    "fig.savefig(\"../box_plot_Accuracy_80.png\")"
   ]
  },
  {
   "cell_type": "code",
   "execution_count": 83,
   "metadata": {},
   "outputs": [
    {
     "name": "stdout",
     "output_type": "stream",
     "text": [
      "../cloudwatch/Opt_memory/999_Test/XGBoost_log_768.txt\n",
      "../cloudwatch/Opt_memory/999_Test/SVC_log_512.txt\n",
      "../cloudwatch/Opt_memory/999_Test/Neural_Network_log_432.txt\n"
     ]
    }
   ],
   "source": [
    "xgboost_scores = parse(\"../cloudwatch/Opt_memory/999_Test/XGBoost_log_768.txt\")\n",
    "svc_scores = parse(\"../cloudwatch/Opt_memory/999_Test/SVC_log_512.txt\")\n",
    "neural_network_scores = parse(\"../cloudwatch/Opt_memory/999_Test/Neural_Network_log_432.txt\")"
   ]
  },
  {
   "cell_type": "code",
   "execution_count": 68,
   "metadata": {},
   "outputs": [
    {
     "data": {
      "image/png": "[encoded data removed]",
      "text/plain": [
       "<Figure size 720x720 with 3 Axes>"
      ]
     },
     "metadata": {
      "needs_background": "light"
     },
     "output_type": "display_data"
    }
   ],
   "source": [
    "fig = plt.figure(figsize=[10, 10])\n",
    "\n",
    "\n",
    "ax1 = fig.add_subplot(131)\n",
    "ax1.boxplot(xgboost_scores, whis=2, usermedians=[0.8637436563200755], labels = ['XGBoost'],\\\n",
    "            flierprops = cyan_diamond)\n",
    "ax1.spines['left'].set_color('green')\n",
    "ax1.tick_params(axis='both', colors='green', labelsize = 10)\n",
    "ax1.set_ylabel(\"Accuracy Score (0.999 test size)\", fontsize = 20)\n",
    "\n",
    "\n",
    "ax2 = fig.add_subplot(132)\n",
    "ax2.boxplot(svc_scores, whis=2, usermedians=[0.2001947362209371], labels = ['Support Vector Classification'], \\\n",
    "            flierprops = blue_diamond)\n",
    "ax2.spines['left'].set_color('blue')\n",
    "ax2.tick_params(axis='both', colors='blue', labelsize=10)\n",
    "\n",
    "ax3 = fig.add_subplot(133)\n",
    "ax3.boxplot(neural_network_scores, whis=2, usermedians=[0.1999586923167709], labels = ['Neural Network'], \\\n",
    "            flierprops = magenta_diamond)\n",
    "ax3.spines['left'].set_color('magenta')\n",
    "ax3.tick_params(axis='both', colors='magenta', labelsize=10)\n",
    "\n",
    "plt.show()\n",
    "fig.savefig(\"../box_plot_Accuracy_999.png\")"
   ]
  },
  {
   "cell_type": "code",
   "execution_count": null,
   "metadata": {},
   "outputs": [],
   "source": []
  },
  {
   "cell_type": "code",
   "execution_count": 78,
   "metadata": {},
   "outputs": [
    {
     "data": {
      "text/plain": [
       "0.04391859915648301"
      ]
     },
     "execution_count": 78,
     "metadata": {},
     "output_type": "execute_result"
    }
   ],
   "source": [
    "min(xgboost_mse)"
   ]
  },
  {
   "cell_type": "code",
   "execution_count": 42,
   "metadata": {},
   "outputs": [
    {
     "name": "stdout",
     "output_type": "stream",
     "text": [
      "/Users/michaelzhang/Downloads/Seneca/cloudwatch/xgboost_123/log_1549830455.txt\n",
      "/Users/michaelzhang/Downloads/Seneca/cloudwatch/xgboost_456/log_1549867297.txt\n",
      "../cloudwatch/Opt_Memory/Prophet_log_384.txt\n",
      "../cloudwatch/Opt_Memory/Multi_Regression_log_255.txt\n"
     ]
    }
   ],
   "source": [
    "xgboost_123_mse = parse(\"/Users/michaelzhang/Downloads/Seneca/cloudwatch/xgboost_123/log_1549830455.txt\", \"Mean Absolute Error\")\n",
    "xgboost_456_mse = parse(\"/Users/michaelzhang/Downloads/Seneca/cloudwatch/xgboost_456/log_1549867297.txt\", \"Mean Absolute Error\")\n",
    "prophet_mse = parse(\"../cloudwatch/Opt_Memory/Prophet_log_384.txt\", \"Metric mse\")\n",
    "multi_regression_mse = parse(\"../cloudwatch/Opt_Memory/Multi_Regression_log_255.txt\", \"The MSE of prediction is\")"
   ]
  },
  {
   "cell_type": "code",
   "execution_count": 44,
   "metadata": {},
   "outputs": [
    {
     "name": "stdout",
     "output_type": "stream",
     "text": [
      "0.06497307498400583\n",
      "8.231307999492131\n",
      "0.06957646069846438\n",
      "8.202637778333468\n",
      "0.2132220134206787\n",
      "0.9874228895115101\n",
      "9.620918439489264\n",
      "43.75182238704921\n"
     ]
    }
   ],
   "source": [
    "print(min(xgboost_123_mse))\n",
    "print(max(xgboost_123_mse))\n",
    "print(min(xgboost_456_mse))\n",
    "print(max(xgboost_456_mse))\n",
    "print(min(prophet_mse))\n",
    "print(max(prophet_mse))\n",
    "print(min(multi_regression_mse))\n",
    "print(max(multi_regression_mse))"
   ]
  },
  {
   "cell_type": "code",
   "execution_count": 12,
   "metadata": {},
   "outputs": [
    {
     "data": {
      "image/png": "[encoded data removed]",
      "text/plain": [
       "<Figure size 720x720 with 3 Axes>"
      ]
     },
     "metadata": {
      "needs_background": "light"
     },
     "output_type": "display_data"
    }
   ],
   "source": [
    "fig = plt.figure(figsize=[10, 10])\n",
    "\n",
    "\n",
    "ax1 = fig.add_subplot(131)\n",
    "ax1.boxplot(prophet_mse, whis=2, usermedians=[0.28436439806726066], labels = ['Prophet'],\\\n",
    "            flierprops = cyan_diamond)\n",
    "ax1.spines['left'].set_color('green')\n",
    "ax1.tick_params(axis='both', colors='green', labelsize = 12)\n",
    "ax1.set_ylabel(\"Mean Square Error\", fontsize = 20)\n",
    "\n",
    "\n",
    "ax2 = fig.add_subplot(132)\n",
    "ax2.boxplot(multi_regression_mse, whis=2, usermedians=[11.445971625426504], labels = ['Multi-Regression'], \\\n",
    "            flierprops = blue_diamond)\n",
    "ax2.spines['left'].set_color('blue')\n",
    "ax2.tick_params(axis='both', colors='blue', labelsize=12)\n",
    "\n",
    "ax3 = fig.add_subplot(133)\n",
    "ax3.boxplot(xgboost_mse, whis=2, usermedians=[0.11894475805820923], labels = ['XGBoost'], flierprops = magenta_diamond)\n",
    "ax3.spines['left'].set_color('magenta')\n",
    "ax3.tick_params(axis='both', colors='magenta', labelsize=12)\n",
    "\n",
    "plt.show()\n",
    "fig.savefig(\"../box_plot_MSE.png\")"
   ]
  },
  {
   "cell_type": "code",
   "execution_count": null,
   "metadata": {},
   "outputs": [],
   "source": []
  }
 ],
 "metadata": {
  "kernelspec": {
   "display_name": "Python 3",
   "language": "python",
   "name": "python3"
  },
  "language_info": {
   "codemirror_mode": {
    "name": "ipython",
    "version": 3
   },
   "file_extension": ".py",
   "mimetype": "text/x-python",
   "name": "python",
   "nbconvert_exporter": "python",
   "pygments_lexer": "ipython3",
   "version": "3.6.8"
  }
 },
 "nbformat": 4,
 "nbformat_minor": 2
}
