{
 "cells": [
  {
   "cell_type": "code",
   "execution_count": 1,
   "metadata": {},
   "outputs": [],
   "source": [
    "import pandas as pd, numpy as np\n",
    "import re\n",
    "from matplotlib import pyplot as plt"
   ]
  },
  {
   "cell_type": "code",
   "execution_count": 51,
   "metadata": {},
   "outputs": [],
   "source": [
    "def parse(file_path, pattern=\"Accuracy Score\"):\n",
    "    scores = []\n",
    "    count = 0\n",
    "    print (file_path)\n",
    "    with open(file_path, 'r') as f:\n",
    "        line = f.readline()\n",
    "        while line:\n",
    "            count = count + 1\n",
    "            # print (\"count : {0}\".format(count))\n",
    "            match = re.search(pattern + \"\\s*:* (\\d*..*)\", line)\n",
    "            \n",
    "            if match:\n",
    "                score = float(match.group(1))\n",
    "                # print (\"score : {0}\".format(score))\n",
    "                scores.append(score)\n",
    "            line = f.readline()\n",
    "\n",
    "    return scores"
   ]
  },
  {
   "cell_type": "code",
   "execution_count": 4,
   "metadata": {},
   "outputs": [],
   "source": [
    "def parse_metric(file_path):\n",
    "    group_metrics = []\n",
    "    with open(file_path, 'r') as f:\n",
    "        message = f.readline()\n",
    "        while message:            \n",
    "            if message.startswith('REPORT'):\n",
    "                duration = re.search(r'(?<=\\tDuration:\\s)(.*?)(?=\\sms)', message).group(0)\n",
    "                billed_duration = re.search(r'(?<=\\tBilled\\sDuration:\\s)(.*?)(?=\\sms)', message).group(0)\n",
    "\n",
    "                # Megabytes\n",
    "                memory_size = re.search(r'(?<=\\tMemory\\sSize:\\s)(.*?)(?=\\sMB)', message).group(0)\n",
    "                max_memory_used = re.search(r'(?<=\\tMax\\sMemory\\sUsed:\\s)(.*?)(?=\\sMB)', message).group(0)\n",
    "\n",
    "                metrics = {\n",
    "                    'duration': duration,\n",
    "                    'billed_duration': billed_duration,\n",
    "                    'memory_size': memory_size,\n",
    "                    'max_memory_used':max_memory_used\n",
    "                }\n",
    "                group_metrics.append(metrics)\n",
    "\n",
    "            message = f.readline()\n",
    "\n",
    "    return group_metrics"
   ]
  },
  {
   "cell_type": "code",
   "execution_count": 12,
   "metadata": {},
   "outputs": [],
   "source": [
    "def retrieve_result(file_path):\n",
    "    total_duration = 0\n",
    "    total_billed_duration = 0\n",
    "    total_max_memory_used = 0\n",
    "    max_memory_used = 0\n",
    "    memory_size = 0\n",
    "    group_metrics = parse_metric(file_path)\n",
    "    invoke_time = len(group_metrics)\n",
    "\n",
    "    for metrics in group_metrics:\n",
    "        total_duration += float(metrics['duration'])\n",
    "        total_billed_duration += float(metrics['billed_duration'])\n",
    "        temp = int(metrics['max_memory_used'])\n",
    "        total_max_memory_used = total_max_memory_used + temp\n",
    "        \n",
    "        if temp > max_memory_used:\n",
    "            max_memory_used = temp\n",
    "        memory_size = int(metrics['memory_size'])\n",
    "    \n",
    "    duration_per_invocation = total_duration / invoke_time\n",
    "    compute_charge = total_billed_duration * 0.001 * (memory_size / 1024)\n",
    "    \n",
    "    # cost = compute charge + request charge\n",
    "    cost = 0.00001667 * compute_charge\n",
    "\n",
    "    # Other metrics can be calculated here:\n",
    "    # Total / Average / Stdev of metrics\n",
    "    \n",
    "\n",
    "    metrics = {\n",
    "        \"total_duration\" : total_duration, \n",
    "        \"total_billed_duration\" : total_billed_duration,\n",
    "        \"average_billed_duration\" : total_billed_duration / invoke_time,\n",
    "        \"average_max_memory_used\" : total_max_memory_used / invoke_time,\n",
    "        \"max_memory_used\" : max_memory_used, \n",
    "        \"memory_size\" : memory_size, \n",
    "        \"duration_per_invocation\" : duration_per_invocation, \n",
    "        \"compute_charge\" : compute_charge,\n",
    "        \"cost\" : cost,\n",
    "        \"invoke_time\" : invoke_time\n",
    "    }\n",
    "\n",
    "    print (metrics)"
   ]
  },
  {
   "cell_type": "markdown",
   "metadata": {},
   "source": [
    "## Metric Calculation"
   ]
  },
  {
   "cell_type": "code",
   "execution_count": 13,
   "metadata": {},
   "outputs": [
    {
     "name": "stdout",
     "output_type": "stream",
     "text": [
      "{'total_duration': 5157876.78, 'total_billed_duration': 5170800.0, 'average_billed_duration': 20198.4375, 'average_max_memory_used': 310.4375, 'max_memory_used': 334, 'memory_size': 1472, 'duration_per_invocation': 20147.956171875, 'compute_charge': 7433.025000000001, 'cost': 0.12390852675000003, 'invoke_time': 256}\n"
     ]
    }
   ],
   "source": [
    "retrieve_result(\"../cloudwatch/Opt_Memory/Multi_Regression_log_255.txt\")"
   ]
  },
  {
   "cell_type": "code",
   "execution_count": 14,
   "metadata": {},
   "outputs": [
    {
     "name": "stdout",
     "output_type": "stream",
     "text": [
      "{'total_duration': 22830895.28000001, 'total_billed_duration': 22850200.0, 'average_billed_duration': 59505.729166666664, 'average_max_memory_used': 292.1276041666667, 'max_memory_used': 297, 'memory_size': 1664, 'duration_per_invocation': 59455.456458333356, 'compute_charge': 37131.575000000004, 'cost': 0.6189833552500001, 'invoke_time': 384}\n"
     ]
    }
   ],
   "source": [
    "retrieve_result(\"../cloudwatch/Opt_Memory/Prophet_log_384.txt\")"
   ]
  },
  {
   "cell_type": "code",
   "execution_count": 15,
   "metadata": {},
   "outputs": [
    {
     "name": "stdout",
     "output_type": "stream",
     "text": [
      "{'total_duration': 1804630.1600000008, 'total_billed_duration': 1827200.0, 'average_billed_duration': 4219.86143187067, 'average_max_memory_used': 288.8175519630485, 'max_memory_used': 306, 'memory_size': 2368, 'duration_per_invocation': 4167.737090069286, 'compute_charge': 4225.400000000001, 'cost': 0.07043741800000002, 'invoke_time': 433}\n"
     ]
    }
   ],
   "source": [
    "retrieve_result(\"../cloudwatch/Opt_Memory/20_Test/Neural_Network_log_432.txt\")"
   ]
  },
  {
   "cell_type": "code",
   "execution_count": 16,
   "metadata": {},
   "outputs": [
    {
     "name": "stdout",
     "output_type": "stream",
     "text": [
      "{'total_duration': 454958.9600000004, 'total_billed_duration': 482000.0, 'average_billed_duration': 941.40625, 'average_max_memory_used': 198.4375, 'max_memory_used': 206, 'memory_size': 2176, 'duration_per_invocation': 888.5917187500008, 'compute_charge': 1024.25, 'cost': 0.0170742475, 'invoke_time': 512}\n"
     ]
    }
   ],
   "source": [
    "retrieve_result(\"../cloudwatch/Opt_Memory/20_Test/SVC_log_512.txt\")"
   ]
  },
  {
   "cell_type": "code",
   "execution_count": 17,
   "metadata": {},
   "outputs": [
    {
     "name": "stdout",
     "output_type": "stream",
     "text": [
      "{'total_duration': 10173669.949999997, 'total_billed_duration': 10210200.0, 'average_billed_duration': 13277.243172951885, 'average_max_memory_used': 194.7334200260078, 'max_memory_used': 201, 'memory_size': 1280, 'duration_per_invocation': 13229.739856957083, 'compute_charge': 12762.75, 'cost': 0.21275504250000002, 'invoke_time': 769}\n"
     ]
    }
   ],
   "source": [
    "retrieve_result(\"../cloudwatch/Opt_Memory/20_Test/XGBoost_log_768.txt\")"
   ]
  },
  {
   "cell_type": "markdown",
   "metadata": {},
   "source": [
    "## Max Memory Metric"
   ]
  },
  {
   "cell_type": "code",
   "execution_count": 32,
   "metadata": {},
   "outputs": [
    {
     "name": "stdout",
     "output_type": "stream",
     "text": [
      "{'total_duration': 2441901.7899999986, 'total_billed_duration': 2454600.0, 'average_billed_duration': 9625.882352941177, 'average_max_memory_used': 315.7450980392157, 'max_memory_used': 338, 'memory_size': 3008, 'duration_per_invocation': 9576.085450980387, 'compute_charge': 7210.3875, 'cost': 0.12019715962500001, 'invoke_time': 255}\n"
     ]
    }
   ],
   "source": [
    "retrieve_result(\"../cloudwatch/Max_Memory/Multi_Regression_log_max.txt\")"
   ]
  },
  {
   "cell_type": "code",
   "execution_count": 33,
   "metadata": {},
   "outputs": [
    {
     "name": "stdout",
     "output_type": "stream",
     "text": [
      "{'total_duration': 14711350.85999999, 'total_billed_duration': 14730500.0, 'average_billed_duration': 38360.677083333336, 'average_max_memory_used': 303.7552083333333, 'max_memory_used': 306, 'memory_size': 3008, 'duration_per_invocation': 38310.80953124997, 'compute_charge': 43270.84375, 'cost': 0.7213249653125, 'invoke_time': 384}\n"
     ]
    }
   ],
   "source": [
    "retrieve_result(\"../cloudwatch/Max_Memory/Prophet_log_max.txt\")"
   ]
  },
  {
   "cell_type": "code",
   "execution_count": 34,
   "metadata": {},
   "outputs": [
    {
     "name": "stdout",
     "output_type": "stream",
     "text": [
      "{'total_duration': 16912618.860000007, 'total_billed_duration': 16951500.0, 'average_billed_duration': 22072.265625, 'average_max_memory_used': 204.58072916666666, 'max_memory_used': 211, 'memory_size': 3008, 'duration_per_invocation': 22021.639140625008, 'compute_charge': 49795.03125, 'cost': 0.8300831709375001, 'invoke_time': 768}\n"
     ]
    }
   ],
   "source": [
    "retrieve_result(\"../cloudwatch/Max_Memory/XGBoost_log_max.txt\")"
   ]
  },
  {
   "cell_type": "code",
   "execution_count": 35,
   "metadata": {},
   "outputs": [
    {
     "name": "stdout",
     "output_type": "stream",
     "text": [
      "{'total_duration': 1413207.2400000005, 'total_billed_duration': 1434700.0, 'average_billed_duration': 3321.064814814815, 'average_max_memory_used': 290.0509259259259, 'max_memory_used': 306, 'memory_size': 3008, 'duration_per_invocation': 3271.3130555555567, 'compute_charge': 4214.431250000001, 'cost': 0.07025456893750001, 'invoke_time': 432}\n"
     ]
    }
   ],
   "source": [
    "retrieve_result(\"../cloudwatch/Max_Memory/Neural_Network_log_max.txt\")"
   ]
  },
  {
   "cell_type": "code",
   "execution_count": 36,
   "metadata": {},
   "outputs": [
    {
     "name": "stdout",
     "output_type": "stream",
     "text": [
      "{'total_duration': 452147.6500000001, 'total_billed_duration': 478700.0, 'average_billed_duration': 934.9609375, 'average_max_memory_used': 200.0, 'max_memory_used': 207, 'memory_size': 3008, 'duration_per_invocation': 883.1008789062502, 'compute_charge': 1406.1812499999999, 'cost': 0.0234410414375, 'invoke_time': 512}\n"
     ]
    }
   ],
   "source": [
    "retrieve_result(\"../cloudwatch/Max_Memory/SVC_log_max.txt\")"
   ]
  },
  {
   "cell_type": "code",
   "execution_count": null,
   "metadata": {},
   "outputs": [],
   "source": []
  },
  {
   "cell_type": "code",
   "execution_count": null,
   "metadata": {},
   "outputs": [],
   "source": []
  },
  {
   "cell_type": "code",
   "execution_count": 63,
   "metadata": {
    "scrolled": true
   },
   "outputs": [
    {
     "name": "stdout",
     "output_type": "stream",
     "text": [
      "../cloudwatch/Opt_memory/20_Test/XGBoost_log_768.txt\n",
      "../cloudwatch/Opt_memory/20_Test/SVC_log_512.txt\n",
      "../cloudwatch/Opt_memory/20_Test/Neural_Network_log_432.txt\n"
     ]
    }
   ],
   "source": [
    "xgboost_scores = parse(\"../cloudwatch/Opt_memory/20_Test/XGBoost_log_768.txt\")\n",
    "svc_scores = parse(\"../cloudwatch/Opt_memory/20_Test/SVC_log_512.txt\")\n",
    "neural_network_scores = parse(\"../cloudwatch/Opt_memory/20_Test/Neural_Network_log_432.txt\")"
   ]
  },
  {
   "cell_type": "code",
   "execution_count": 64,
   "metadata": {},
   "outputs": [
    {
     "data": {
      "image/png": "[encoded data removed]",
      "text/plain": [
       "<Figure size 720x720 with 3 Axes>"
      ]
     },
     "metadata": {
      "needs_background": "light"
     },
     "output_type": "display_data"
    }
   ],
   "source": [
    "fig = plt.figure(figsize=[10, 10])\n",
    "\n",
    "\n",
    "ax1 = fig.add_subplot(131)\n",
    "ax1.boxplot(xgboost_scores, whis=2, usermedians=[0.956963890935888], labels = ['XGBoost'],\\\n",
    "            flierprops = cyan_diamond)\n",
    "ax1.spines['left'].set_color('green')\n",
    "ax1.tick_params(axis='both', colors='green', labelsize = 10)\n",
    "ax1.set_ylabel(\"Accuracy Score (0.2 test size)\", fontsize = 20)\n",
    "\n",
    "\n",
    "ax2 = fig.add_subplot(132)\n",
    "ax2.boxplot(svc_scores, whis=2, usermedians=[0.21768607221812822], labels = ['Support Vector Classification'], \\\n",
    "            flierprops = blue_diamond)\n",
    "ax2.spines['left'].set_color('blue')\n",
    "ax2.tick_params(axis='both', colors='blue', labelsize=10)\n",
    "\n",
    "ax3 = fig.add_subplot(133)\n",
    "ax3.boxplot(neural_network_scores, whis=2, usermedians=[0.8422991893883567], labels = ['Neural Network'], \\\n",
    "            flierprops = magenta_diamond)\n",
    "ax3.spines['left'].set_color('magenta')\n",
    "ax3.tick_params(axis='both', colors='magenta', labelsize=10)\n",
    "\n",
    "plt.show()\n",
    "fig.savefig(\"../box_plot_Accuracy_20.png\")"
   ]
  },
  {
   "cell_type": "code",
   "execution_count": 65,
   "metadata": {},
   "outputs": [
    {
     "name": "stdout",
     "output_type": "stream",
     "text": [
      "../cloudwatch/Opt_memory/80_Test/XGBoost_log_768.txt\n",
      "../cloudwatch/Opt_memory/80_Test/SVC_log_512.txt\n",
      "../cloudwatch/Opt_memory/80_Test/Neural_Network_log_432.txt\n"
     ]
    }
   ],
   "source": [
    "xgboost_scores = parse(\"../cloudwatch/Opt_memory/80_Test/XGBoost_log_768.txt\")\n",
    "svc_scores = parse(\"../cloudwatch/Opt_memory/80_Test/SVC_log_512.txt\")\n",
    "neural_network_scores = parse(\"../cloudwatch/Opt_memory/80_Test/Neural_Network_log_432.txt\")"
   ]
  },
  {
   "cell_type": "code",
   "execution_count": 20,
   "metadata": {},
   "outputs": [],
   "source": [
    "cyan_diamond = dict(markerfacecolor='c', marker='D')\n",
    "blue_diamond = dict(markerfacecolor='b', marker='D')\n",
    "magenta_diamond = dict(markerfacecolor='m', marker='D')"
   ]
  },
  {
   "cell_type": "code",
   "execution_count": 66,
   "metadata": {},
   "outputs": [
    {
     "data": {
      "image/png": "[encoded data removed]",
      "text/plain": [
       "<Figure size 720x720 with 3 Axes>"
      ]
     },
     "metadata": {
      "needs_background": "light"
     },
     "output_type": "display_data"
    }
   ],
   "source": [
    "fig = plt.figure(figsize=[10, 10])\n",
    "\n",
    "\n",
    "ax1 = fig.add_subplot(131)\n",
    "ax1.boxplot(xgboost_scores, whis=2, usermedians=[0.9507369196757554], labels = ['XGBoost'],\\\n",
    "            flierprops = cyan_diamond)\n",
    "ax1.spines['left'].set_color('green')\n",
    "ax1.tick_params(axis='both', colors='green', labelsize = 10)\n",
    "ax1.set_ylabel(\"Accuracy Score (0.8 test size)\", fontsize = 20)\n",
    "\n",
    "\n",
    "ax2 = fig.add_subplot(132)\n",
    "ax2.boxplot(svc_scores, whis=2, usermedians=[0.21308032424465734], labels = ['Support Vector Classification'], \\\n",
    "            flierprops = blue_diamond)\n",
    "ax2.spines['left'].set_color('blue')\n",
    "ax2.tick_params(axis='both', colors='blue', labelsize=10)\n",
    "\n",
    "ax3 = fig.add_subplot(133)\n",
    "ax3.boxplot(neural_network_scores, whis=2, usermedians=[0.5543846720707443], labels = ['Neural Network'], \\\n",
    "            flierprops = magenta_diamond)\n",
    "ax3.spines['left'].set_color('magenta')\n",
    "ax3.tick_params(axis='both', colors='magenta', labelsize=10)\n",
    "\n",
    "plt.show()\n",
    "fig.savefig(\"../box_plot_Accuracy_80.png\")"
   ]
  },
  {
   "cell_type": "code",
   "execution_count": 67,
   "metadata": {},
   "outputs": [
    {
     "name": "stdout",
     "output_type": "stream",
     "text": [
      "../cloudwatch/Opt_memory/999_Test/XGBoost_log_768.txt\n",
      "../cloudwatch/Opt_memory/999_Test/SVC_log_512.txt\n",
      "../cloudwatch/Opt_memory/999_Test/Neural_Network_log_432.txt\n"
     ]
    }
   ],
   "source": [
    "xgboost_scores = parse(\"../cloudwatch/Opt_memory/999_Test/XGBoost_log_768.txt\")\n",
    "svc_scores = parse(\"../cloudwatch/Opt_memory/999_Test/SVC_log_512.txt\")\n",
    "neural_network_scores = parse(\"../cloudwatch/Opt_memory/999_Test/Neural_Network_log_432.txt\")"
   ]
  },
  {
   "cell_type": "code",
   "execution_count": 68,
   "metadata": {},
   "outputs": [
    {
     "data": {
      "image/png": "[encoded data removed]",
      "text/plain": [
       "<Figure size 720x720 with 3 Axes>"
      ]
     },
     "metadata": {
      "needs_background": "light"
     },
     "output_type": "display_data"
    }
   ],
   "source": [
    "fig = plt.figure(figsize=[10, 10])\n",
    "\n",
    "\n",
    "ax1 = fig.add_subplot(131)\n",
    "ax1.boxplot(xgboost_scores, whis=2, usermedians=[0.8637436563200755], labels = ['XGBoost'],\\\n",
    "            flierprops = cyan_diamond)\n",
    "ax1.spines['left'].set_color('green')\n",
    "ax1.tick_params(axis='both', colors='green', labelsize = 10)\n",
    "ax1.set_ylabel(\"Accuracy Score (0.999 test size)\", fontsize = 20)\n",
    "\n",
    "\n",
    "ax2 = fig.add_subplot(132)\n",
    "ax2.boxplot(svc_scores, whis=2, usermedians=[0.2001947362209371], labels = ['Support Vector Classification'], \\\n",
    "            flierprops = blue_diamond)\n",
    "ax2.spines['left'].set_color('blue')\n",
    "ax2.tick_params(axis='both', colors='blue', labelsize=10)\n",
    "\n",
    "ax3 = fig.add_subplot(133)\n",
    "ax3.boxplot(neural_network_scores, whis=2, usermedians=[0.1999586923167709], labels = ['Neural Network'], \\\n",
    "            flierprops = magenta_diamond)\n",
    "ax3.spines['left'].set_color('magenta')\n",
    "ax3.tick_params(axis='both', colors='magenta', labelsize=10)\n",
    "\n",
    "plt.show()\n",
    "fig.savefig(\"../box_plot_Accuracy_999.png\")"
   ]
  },
  {
   "cell_type": "code",
   "execution_count": null,
   "metadata": {},
   "outputs": [],
   "source": []
  },
  {
   "cell_type": "code",
   "execution_count": null,
   "metadata": {},
   "outputs": [],
   "source": []
  },
  {
   "cell_type": "code",
   "execution_count": 69,
   "metadata": {},
   "outputs": [
    {
     "name": "stdout",
     "output_type": "stream",
     "text": [
      "../cloudwatch/Opt_memory/20_Test/XGBoost_log_768.txt\n",
      "/Users/michaelzhang/Downloads/Seneca/results/prophet/prophet_output.txt\n",
      "../cloudwatch/Opt_Memory/Multi_Regression_log_255.txt\n"
     ]
    }
   ],
   "source": [
    "xgboost_mse = parse(\"../cloudwatch/Opt_memory/20_Test/XGBoost_log_768.txt\", \"Mean Absolute Error\")\n",
    "prophet_mse = parse(\"/Users/michaelzhang/Downloads/Seneca/results/prophet/prophet_output.txt\", \"Metric mse\")\n",
    "multi_regression_mse = parse(\"../cloudwatch/Opt_Memory/Multi_Regression_log_255.txt\", \"The MSE of prediction is\")"
   ]
  },
  {
   "cell_type": "code",
   "execution_count": 70,
   "metadata": {},
   "outputs": [
    {
     "data": {
      "image/png": "[encoded data removed]",
      "text/plain": [
       "<Figure size 720x720 with 3 Axes>"
      ]
     },
     "metadata": {
      "needs_background": "light"
     },
     "output_type": "display_data"
    }
   ],
   "source": [
    "fig = plt.figure(figsize=[10, 10])\n",
    "\n",
    "\n",
    "ax1 = fig.add_subplot(131)\n",
    "ax1.boxplot(prophet_mse, whis=2, usermedians=[0.28436439806726066], labels = ['Prophet'],\\\n",
    "            flierprops = cyan_diamond)\n",
    "ax1.spines['left'].set_color('green')\n",
    "ax1.tick_params(axis='both', colors='green', labelsize = 10)\n",
    "ax1.set_ylabel(\"Mean Square Error\", fontsize = 20)\n",
    "\n",
    "\n",
    "ax2 = fig.add_subplot(132)\n",
    "ax2.boxplot(multi_regression_mse, whis=2, usermedians=[11.445971625426504], labels = ['Multivariate Regression'], \\\n",
    "            flierprops = blue_diamond)\n",
    "ax2.spines['left'].set_color('blue')\n",
    "ax2.tick_params(axis='both', colors='blue', labelsize=10)\n",
    "\n",
    "ax3 = fig.add_subplot(133)\n",
    "ax3.boxplot(xgboost_mse, whis=2, usermedians=[0.11894475805820923], labels = ['XGBoost'], flierprops = magenta_diamond)\n",
    "ax3.spines['left'].set_color('magenta')\n",
    "ax3.tick_params(axis='both', colors='magenta', labelsize=10)\n",
    "\n",
    "plt.show()\n",
    "fig.savefig(\"./box_plot_MSE.png\")"
   ]
  },
  {
   "cell_type": "code",
   "execution_count": 246,
   "metadata": {},
   "outputs": [],
   "source": [
    "import pandas as pd"
   ]
  },
  {
   "cell_type": "code",
   "execution_count": 247,
   "metadata": {},
   "outputs": [],
   "source": [
    "df = pd.read_csv(\"./datasets/xgboost/df_2017_further_reduced.csv\")"
   ]
  },
  {
   "cell_type": "code",
   "execution_count": 249,
   "metadata": {},
   "outputs": [
    {
     "data": {
      "text/plain": [
       "Index(['LR_Diff', 'GradeValue', 'SizerSize', 'SizerGrade', 'CupWeight',\n",
       "       'Offset', 'Green', 'Dark Green', 'Start of Batch', 'Texture',\n",
       "       'Stem Area', 'Smoothness', 'Flatness', 'Major Diameter (mm)',\n",
       "       'Cyclic Rod Number', 'Trip Rod', 'Fruit Center X (mm)',\n",
       "       'Fruit Center Y (mm)', 'block_Num'],\n",
       "      dtype='object')"
      ]
     },
     "execution_count": 249,
     "metadata": {},
     "output_type": "execute_result"
    }
   ],
   "source": [
    "df.columns"
   ]
  },
  {
   "cell_type": "code",
   "execution_count": null,
   "metadata": {},
   "outputs": [],
   "source": []
  }
 ],
 "metadata": {
  "kernelspec": {
   "display_name": "Python 3",
   "language": "python",
   "name": "python3"
  },
  "language_info": {
   "codemirror_mode": {
    "name": "ipython",
    "version": 3
   },
   "file_extension": ".py",
   "mimetype": "text/x-python",
   "name": "python",
   "nbconvert_exporter": "python",
   "pygments_lexer": "ipython3",
   "version": "3.6.8"
  }
 },
 "nbformat": 4,
 "nbformat_minor": 2
}
