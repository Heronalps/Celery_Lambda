{
 "cells": [
  {
   "cell_type": "code",
   "execution_count": 1,
   "metadata": {},
   "outputs": [],
   "source": [
    "import os, sys, csv, re, importlib, json, ast\n",
    "import pandas as pd\n",
    "from itertools import product\n",
    "sys.path.insert(0, \"../\")\n",
    "from helpers.parsers import split_path\n",
    "from helpers.parsers import parse_score\n",
    "from helpers.parsers import parse_metrics\n"
   ]
  },
  {
   "cell_type": "code",
   "execution_count": 2,
   "metadata": {},
   "outputs": [],
   "source": [
    "'''\n",
    "This function queries dataframe with a dictionary with columns' value\n",
    "'''\n",
    "def query_df_dict(df, value_dict):\n",
    "    indices = []\n",
    "    for key, value in value_dict.items():\n",
    "        # import pdb; pdb.set_trace();  \n",
    "        if key in df.columns:\n",
    "            \n",
    "            # Core codeline: Filter the df with values in the dict one by one\n",
    "            df = df.loc[df[key] == value]\n",
    "\n",
    "    return df.index.tolist()"
   ]
  },
  {
   "cell_type": "code",
   "execution_count": 3,
   "metadata": {},
   "outputs": [],
   "source": [
    "'''\n",
    "This function queries dataframe with a single value\n",
    "'''\n",
    "def query_df_single(df, value):\n",
    "    indices = []   \n",
    "\n",
    "    target = df.columns[0]\n",
    "    # Core codeline: Filter the df with values in the dict one by one\n",
    "    # import pdb; pdb.set_trace();\n",
    "    df = df.loc[df[target] == value]\n",
    "\n",
    "    return df.index.tolist()"
   ]
  },
  {
   "cell_type": "code",
   "execution_count": 4,
   "metadata": {},
   "outputs": [],
   "source": [
    "'''\n",
    "This function removes columns that have same values in all rows.\n",
    "'''\n",
    "def remove_column_same_value(df):\n",
    "    unique_count = df.apply(pd.Series.nunique)\n",
    "    df = df.drop(unique_count[unique_count == 1].index, axis = 1)\n",
    "    return df"
   ]
  },
  {
   "cell_type": "code",
   "execution_count": 5,
   "metadata": {},
   "outputs": [],
   "source": [
    "'''\n",
    "This function parses score from log.\n",
    "metric_pattern = ['Metric mse', 'Accuracy Score']\n",
    "\n",
    "'''\n",
    "\n",
    "def parse_log_score(model, folder_path, metric_pattern):\n",
    "    df = pd.read_csv('../results/spreadsheets/{0}_parameter_mapping.csv'.format(model))\n",
    "    file_names = os.listdir(folder_path)\n",
    "    count = 1\n",
    "\n",
    "    # Remove columns that have all same values\n",
    "    df = remove_column_same_value(df)\n",
    "\n",
    "    for file_name in file_names:\n",
    "        if file_name.startswith('log'):\n",
    "            with open(folder_path + file_name, \"r\") as f:\n",
    "                line = f.readline()\n",
    "                indices = []\n",
    "                while line:\n",
    "   \n",
    "                    if line.startswith('{'):  \n",
    "                        parameter_dict = ast.literal_eval(line)\n",
    "\n",
    "                        # query the df with all values in dict\n",
    "                        indices = query_df_dict(df, parameter_dict)\n",
    "\n",
    "                    elif line.startswith(\"['pizero'\"):\n",
    "                        # import pdb; pdb.set_trace();\n",
    "                        parameter_list = line.rstrip('\\n')\n",
    "\n",
    "                        # query the df with all values in dict\n",
    "                        indices = query_df_single(df, parameter_list)\n",
    "\n",
    "                    elif line.startswith(metric_pattern) and indices:\n",
    "                        score = parse_score(line, pattern = metric_pattern)\n",
    "                        for index in indices:\n",
    "                            df.loc[index, str(count)] = score\n",
    "\n",
    "                    line = f.readline()\n",
    "\n",
    "            count = count + 1\n",
    "            # import pdb; pdb.set_trace();       \n",
    "    df.to_csv(\"../results/spreadsheets/{0}_{1}.csv\".format(model, metric_pattern), index = False)"
   ]
  },
  {
   "cell_type": "code",
   "execution_count": null,
   "metadata": {},
   "outputs": [],
   "source": [
    "model = 'prophet'\n",
    "folder_path = '../cloudwatch/prophet/'\n",
    "parse_log_score(model, folder_path, \"Metric mse\")"
   ]
  },
  {
   "cell_type": "code",
   "execution_count": null,
   "metadata": {},
   "outputs": [],
   "source": [
    "model = 'multi_regression'\n",
    "folder_path = '../cloudwatch/multi_regression/'\n",
    "parse_log_score(model, folder_path, \"The MSE of prediction is\")"
   ]
  },
  {
   "cell_type": "code",
   "execution_count": 14,
   "metadata": {},
   "outputs": [],
   "source": [
    "model = 'neural_network_123'\n",
    "folder_path = '../cloudwatch/neural_network_123/'\n",
    "parse_log_score(model, folder_path, \"Accuracy Score\")"
   ]
  },
  {
   "cell_type": "code",
   "execution_count": 46,
   "metadata": {},
   "outputs": [],
   "source": [
    "model = 'neural_network_456'\n",
    "folder_path = '../cloudwatch/neural_network_456/'\n",
    "parse_log_score(model, folder_path, \"Accuracy Score\")"
   ]
  },
  {
   "cell_type": "code",
   "execution_count": 17,
   "metadata": {},
   "outputs": [],
   "source": [
    "model = 'xgboost_123'\n",
    "folder_path = '../cloudwatch/xgboost_123/'\n",
    "parse_log_score(model, folder_path, \"Mean Absolute Error\")\n",
    "parse_log_score(model, folder_path, \"Accuracy Score\")"
   ]
  },
  {
   "cell_type": "code",
   "execution_count": 63,
   "metadata": {},
   "outputs": [],
   "source": [
    "model = 'xgboost_456'\n",
    "folder_path = '../cloudwatch/xgboost_456/'\n",
    "parse_log_score(model, folder_path, \"Mean Absolute Error\")\n",
    "parse_log_score(model, folder_path, \"Accuracy Score\")"
   ]
  },
  {
   "cell_type": "code",
   "execution_count": 56,
   "metadata": {},
   "outputs": [],
   "source": [
    "model = 'svc_123'\n",
    "folder_path = '../cloudwatch/svc_123/'\n",
    "parse_log_score(model, folder_path, \"Accuracy Score\")"
   ]
  },
  {
   "cell_type": "code",
   "execution_count": 57,
   "metadata": {},
   "outputs": [],
   "source": [
    "model = 'svc_456'\n",
    "folder_path = '../cloudwatch/svc_456/'\n",
    "parse_log_score(model, folder_path, \"Accuracy Score\")"
   ]
  },
  {
   "cell_type": "code",
   "execution_count": 15,
   "metadata": {},
   "outputs": [],
   "source": [
    "'''\n",
    "This function parses metrics from log.\n",
    "metric_pattern = ['Duration','Billed Duration','Memory Size', 'Max Memory Used']\n",
    "'''\n",
    "\n",
    "def parse_log_metric(model, folder_path, metric_pattern):\n",
    "    df = pd.read_csv('../results/spreadsheets/{0}_parameter_mapping.csv'.format(model))\n",
    "    file_names = os.listdir(folder_path)\n",
    "    count = 1\n",
    "\n",
    "    # Remove columns that have all same values\n",
    "    df = remove_column_same_value(df)\n",
    "\n",
    "    for file_name in file_names:\n",
    "        if file_name.startswith('log'):\n",
    "            with open(folder_path + file_name, \"r\") as f:\n",
    "                line = f.readline()\n",
    "                indices = []\n",
    "                while line:\n",
    "                    if line.startswith('{'):\n",
    "                        parameter_dict = ast.literal_eval(line)\n",
    "\n",
    "                        # query the df with all values in dict\n",
    "                        indices = query_df_dict(df, parameter_dict)\n",
    "\n",
    "                    elif line.startswith(\"['pizero\"):\n",
    "                        parameter_list = line.rstrip('\\n')\n",
    "\n",
    "                        # query the df with all values in dict\n",
    "                        indices = query_df_single(df, parameter_list)\n",
    "\n",
    "                    elif line.startswith('REPORT') and indices:\n",
    "                        metrics = parse_metrics(line)\n",
    "                        for index in indices:\n",
    "                            df.loc[index, str(count)] = metrics[metric_pattern]\n",
    "\n",
    "                    line = f.readline()\n",
    "\n",
    "            count = count + 1\n",
    "            # import pdb; pdb.set_trace();       \n",
    "    df.to_csv(\"../results/spreadsheets/{0}_{1}.csv\".format(model, metric_pattern), index = False)"
   ]
  },
  {
   "cell_type": "code",
   "execution_count": 20,
   "metadata": {
    "collapsed": true
   },
   "outputs": [
    {
     "ename": "KeyboardInterrupt",
     "evalue": "",
     "output_type": "error",
     "traceback": [
      "\u001b[0;31m---------------------------------------------------------------------------\u001b[0m",
      "\u001b[0;31mKeyboardInterrupt\u001b[0m                         Traceback (most recent call last)",
      "\u001b[0;32m<ipython-input-20-36dd0f51ca5b>\u001b[0m in \u001b[0;36m<module>\u001b[0;34m\u001b[0m\n\u001b[0;32m----> 1\u001b[0;31m \u001b[0mparse_log_metric\u001b[0m\u001b[0;34m(\u001b[0m\u001b[0;34m'multi_regression'\u001b[0m\u001b[0;34m,\u001b[0m \u001b[0;34m'../cloudwatch/multi_regression/'\u001b[0m\u001b[0;34m,\u001b[0m \u001b[0;34m'Max Memory Used'\u001b[0m\u001b[0;34m)\u001b[0m\u001b[0;34m\u001b[0m\u001b[0;34m\u001b[0m\u001b[0m\n\u001b[0m\u001b[1;32m      2\u001b[0m \u001b[0mparse_log_metric\u001b[0m\u001b[0;34m(\u001b[0m\u001b[0;34m'multi_regression'\u001b[0m\u001b[0;34m,\u001b[0m \u001b[0;34m'../cloudwatch/multi_regression/'\u001b[0m\u001b[0;34m,\u001b[0m \u001b[0;34m'Billed Duration'\u001b[0m\u001b[0;34m)\u001b[0m\u001b[0;34m\u001b[0m\u001b[0;34m\u001b[0m\u001b[0m\n",
      "\u001b[0;32m<ipython-input-19-fff2e3facb42>\u001b[0m in \u001b[0;36mparse_log_metric\u001b[0;34m(model, folder_path, metric_pattern)\u001b[0m\n\u001b[1;32m     33\u001b[0m                         \u001b[0mmetrics\u001b[0m \u001b[0;34m=\u001b[0m \u001b[0mparse_metrics\u001b[0m\u001b[0;34m(\u001b[0m\u001b[0mline\u001b[0m\u001b[0;34m)\u001b[0m\u001b[0;34m\u001b[0m\u001b[0;34m\u001b[0m\u001b[0m\n\u001b[1;32m     34\u001b[0m                         \u001b[0;32mfor\u001b[0m \u001b[0mindex\u001b[0m \u001b[0;32min\u001b[0m \u001b[0mindices\u001b[0m\u001b[0;34m:\u001b[0m\u001b[0;34m\u001b[0m\u001b[0;34m\u001b[0m\u001b[0m\n\u001b[0;32m---> 35\u001b[0;31m                             \u001b[0mdf\u001b[0m\u001b[0;34m.\u001b[0m\u001b[0mloc\u001b[0m\u001b[0;34m[\u001b[0m\u001b[0mindex\u001b[0m\u001b[0;34m,\u001b[0m \u001b[0mstr\u001b[0m\u001b[0;34m(\u001b[0m\u001b[0mcount\u001b[0m\u001b[0;34m)\u001b[0m\u001b[0;34m]\u001b[0m \u001b[0;34m=\u001b[0m \u001b[0mmetrics\u001b[0m\u001b[0;34m[\u001b[0m\u001b[0mmetric_pattern\u001b[0m\u001b[0;34m]\u001b[0m\u001b[0;34m\u001b[0m\u001b[0;34m\u001b[0m\u001b[0m\n\u001b[0m\u001b[1;32m     36\u001b[0m \u001b[0;34m\u001b[0m\u001b[0m\n\u001b[1;32m     37\u001b[0m                     \u001b[0mline\u001b[0m \u001b[0;34m=\u001b[0m \u001b[0mf\u001b[0m\u001b[0;34m.\u001b[0m\u001b[0mreadline\u001b[0m\u001b[0;34m(\u001b[0m\u001b[0;34m)\u001b[0m\u001b[0;34m\u001b[0m\u001b[0;34m\u001b[0m\u001b[0m\n",
      "\u001b[0;32m~/Downloads/Seneca/venv/lib/python3.6/site-packages/pandas/core/indexing.py\u001b[0m in \u001b[0;36m__setitem__\u001b[0;34m(self, key, value)\u001b[0m\n\u001b[1;32m    187\u001b[0m             \u001b[0mkey\u001b[0m \u001b[0;34m=\u001b[0m \u001b[0mcom\u001b[0m\u001b[0;34m.\u001b[0m\u001b[0m_apply_if_callable\u001b[0m\u001b[0;34m(\u001b[0m\u001b[0mkey\u001b[0m\u001b[0;34m,\u001b[0m \u001b[0mself\u001b[0m\u001b[0;34m.\u001b[0m\u001b[0mobj\u001b[0m\u001b[0;34m)\u001b[0m\u001b[0;34m\u001b[0m\u001b[0;34m\u001b[0m\u001b[0m\n\u001b[1;32m    188\u001b[0m         \u001b[0mindexer\u001b[0m \u001b[0;34m=\u001b[0m \u001b[0mself\u001b[0m\u001b[0;34m.\u001b[0m\u001b[0m_get_setitem_indexer\u001b[0m\u001b[0;34m(\u001b[0m\u001b[0mkey\u001b[0m\u001b[0;34m)\u001b[0m\u001b[0;34m\u001b[0m\u001b[0;34m\u001b[0m\u001b[0m\n\u001b[0;32m--> 189\u001b[0;31m         \u001b[0mself\u001b[0m\u001b[0;34m.\u001b[0m\u001b[0m_setitem_with_indexer\u001b[0m\u001b[0;34m(\u001b[0m\u001b[0mindexer\u001b[0m\u001b[0;34m,\u001b[0m \u001b[0mvalue\u001b[0m\u001b[0;34m)\u001b[0m\u001b[0;34m\u001b[0m\u001b[0;34m\u001b[0m\u001b[0m\n\u001b[0m\u001b[1;32m    190\u001b[0m \u001b[0;34m\u001b[0m\u001b[0m\n\u001b[1;32m    191\u001b[0m     \u001b[0;32mdef\u001b[0m \u001b[0m_validate_key\u001b[0m\u001b[0;34m(\u001b[0m\u001b[0mself\u001b[0m\u001b[0;34m,\u001b[0m \u001b[0mkey\u001b[0m\u001b[0;34m,\u001b[0m \u001b[0maxis\u001b[0m\u001b[0;34m)\u001b[0m\u001b[0;34m:\u001b[0m\u001b[0;34m\u001b[0m\u001b[0;34m\u001b[0m\u001b[0m\n",
      "\u001b[0;32m~/Downloads/Seneca/venv/lib/python3.6/site-packages/pandas/core/indexing.py\u001b[0m in \u001b[0;36m_setitem_with_indexer\u001b[0;34m(self, indexer, value)\u001b[0m\n\u001b[1;32m    301\u001b[0m         \u001b[0;31m# also has the side effect of consolidating in-place\u001b[0m\u001b[0;34m\u001b[0m\u001b[0;34m\u001b[0m\u001b[0;34m\u001b[0m\u001b[0m\n\u001b[1;32m    302\u001b[0m         \u001b[0;31m# TODO: Panel, DataFrame are not imported, remove?\u001b[0m\u001b[0;34m\u001b[0m\u001b[0;34m\u001b[0m\u001b[0;34m\u001b[0m\u001b[0m\n\u001b[0;32m--> 303\u001b[0;31m         \u001b[0;32mfrom\u001b[0m \u001b[0mpandas\u001b[0m \u001b[0;32mimport\u001b[0m \u001b[0mPanel\u001b[0m\u001b[0;34m,\u001b[0m \u001b[0mDataFrame\u001b[0m\u001b[0;34m,\u001b[0m \u001b[0mSeries\u001b[0m  \u001b[0;31m# noqa\u001b[0m\u001b[0;34m\u001b[0m\u001b[0;34m\u001b[0m\u001b[0m\n\u001b[0m\u001b[1;32m    304\u001b[0m         \u001b[0minfo_axis\u001b[0m \u001b[0;34m=\u001b[0m \u001b[0mself\u001b[0m\u001b[0;34m.\u001b[0m\u001b[0mobj\u001b[0m\u001b[0;34m.\u001b[0m\u001b[0m_info_axis_number\u001b[0m\u001b[0;34m\u001b[0m\u001b[0;34m\u001b[0m\u001b[0m\n\u001b[1;32m    305\u001b[0m \u001b[0;34m\u001b[0m\u001b[0m\n",
      "\u001b[0;32m~/Downloads/Seneca/venv/lib/python3.6/importlib/_bootstrap.py\u001b[0m in \u001b[0;36m_handle_fromlist\u001b[0;34m(module, fromlist, import_, recursive)\u001b[0m\n",
      "\u001b[0;31mKeyboardInterrupt\u001b[0m: "
     ]
    }
   ],
   "source": [
    "parse_log_metric('multi_regression', '../cloudwatch/multi_regression/', 'Max Memory Used')\n",
    "parse_log_metric('multi_regression', '../cloudwatch/multi_regression/', 'Billed Duration')"
   ]
  },
  {
   "cell_type": "code",
   "execution_count": 42,
   "metadata": {},
   "outputs": [],
   "source": [
    "parse_log_metric('neural_network_123', '../cloudwatch/neural_network_123/', 'Max Memory Used')\n",
    "parse_log_metric('neural_network_123', '../cloudwatch/neural_network_123/', 'Billed Duration')"
   ]
  },
  {
   "cell_type": "code",
   "execution_count": 47,
   "metadata": {},
   "outputs": [],
   "source": [
    "parse_log_metric('neural_network_456', '../cloudwatch/neural_network_456/', 'Max Memory Used')\n",
    "parse_log_metric('neural_network_456', '../cloudwatch/neural_network_456/', 'Billed Duration')"
   ]
  },
  {
   "cell_type": "code",
   "execution_count": 58,
   "metadata": {},
   "outputs": [],
   "source": [
    "parse_log_metric('svc_123', '../cloudwatch/svc_123/', 'Max Memory Used')\n",
    "parse_log_metric('svc_123', '../cloudwatch/svc_123/', 'Billed Duration')\n",
    "parse_log_metric('svc_456', '../cloudwatch/svc_456/', 'Max Memory Used')\n",
    "parse_log_metric('svc_456', '../cloudwatch/svc_456/', 'Billed Duration')"
   ]
  },
  {
   "cell_type": "code",
   "execution_count": 18,
   "metadata": {},
   "outputs": [],
   "source": [
    "parse_log_metric('xgboost_123', '../cloudwatch/xgboost_123/', 'Max Memory Used')\n",
    "parse_log_metric('xgboost_123', '../cloudwatch/xgboost_123/', 'Billed Duration')"
   ]
  },
  {
   "cell_type": "code",
   "execution_count": 64,
   "metadata": {},
   "outputs": [],
   "source": [
    "parse_log_metric('xgboost_456', '../cloudwatch/xgboost_456/', 'Max Memory Used')\n",
    "parse_log_metric('xgboost_456', '../cloudwatch/xgboost_456/', 'Billed Duration')"
   ]
  },
  {
   "cell_type": "code",
   "execution_count": 11,
   "metadata": {},
   "outputs": [],
   "source": [
    "'''\n",
    "This function parses execution time from nohup.out.\n",
    "'''\n",
    "\n",
    "def parse_log_execution_time(model, file_path):\n",
    "    count = 1\n",
    "    with open(file_path, \"r\") as f:\n",
    "        line = f.readline()\n",
    "        execution_times = {}\n",
    "        while line:\n",
    "            if line.startswith('===Async Tasks end==='):\n",
    "                temp = f.readline()\n",
    "                execution_times[count] = float(temp)\n",
    "                count = count + 1\n",
    "            line = f.readline()\n",
    "            \n",
    "    with open(\"../results/spreadsheets/{0}_execution_times.csv\".format(model), \"w\") as f:\n",
    "        w = csv.DictWriter(f, execution_times.keys())\n",
    "        w.writeheader()\n",
    "        w.writerow(execution_times)\n"
   ]
  },
  {
   "cell_type": "code",
   "execution_count": 11,
   "metadata": {},
   "outputs": [],
   "source": [
    "parse_log_execution_time('multi_regression', '../cloudwatch/multi_regression/multi_regression.out')"
   ]
  },
  {
   "cell_type": "code",
   "execution_count": 45,
   "metadata": {},
   "outputs": [],
   "source": [
    "parse_log_execution_time('neural_network_123', '../cloudwatch/neural_network_123/neural_network_123.out')"
   ]
  },
  {
   "cell_type": "code",
   "execution_count": 48,
   "metadata": {},
   "outputs": [],
   "source": [
    "parse_log_execution_time('neural_network_456', '../cloudwatch/neural_network_456/neural_network_456.out')"
   ]
  },
  {
   "cell_type": "code",
   "execution_count": 59,
   "metadata": {},
   "outputs": [],
   "source": [
    "parse_log_execution_time('svc_123', '../cloudwatch/svc_123/svc_123.out')\n",
    "parse_log_execution_time('svc_456', '../cloudwatch/svc_456/svc_456.out')"
   ]
  },
  {
   "cell_type": "code",
   "execution_count": 19,
   "metadata": {},
   "outputs": [],
   "source": [
    "parse_log_execution_time('xgboost_123', '../cloudwatch/xgboost_123/xgboost_123.out')"
   ]
  },
  {
   "cell_type": "code",
   "execution_count": 65,
   "metadata": {},
   "outputs": [],
   "source": [
    "parse_log_execution_time('xgboost_456', '../cloudwatch/xgboost_456/xgboost_456.out')"
   ]
  },
  {
   "cell_type": "code",
   "execution_count": 35,
   "metadata": {},
   "outputs": [
    {
     "data": {
      "text/html": [
       "<div>\n",
       "<style scoped>\n",
       "    .dataframe tbody tr th:only-of-type {\n",
       "        vertical-align: middle;\n",
       "    }\n",
       "\n",
       "    .dataframe tbody tr th {\n",
       "        vertical-align: top;\n",
       "    }\n",
       "\n",
       "    .dataframe thead th {\n",
       "        text-align: right;\n",
       "    }\n",
       "</style>\n",
       "<table border=\"1\" class=\"dataframe\">\n",
       "  <thead>\n",
       "    <tr style=\"text-align: right;\">\n",
       "      <th></th>\n",
       "      <th>Name</th>\n",
       "      <th>C1</th>\n",
       "      <th>C2</th>\n",
       "      <th>C3</th>\n",
       "    </tr>\n",
       "  </thead>\n",
       "  <tbody>\n",
       "    <tr>\n",
       "      <th>0</th>\n",
       "      <td>AAAA</td>\n",
       "      <td>25</td>\n",
       "      <td>2</td>\n",
       "      <td>1</td>\n",
       "    </tr>\n",
       "    <tr>\n",
       "      <th>1</th>\n",
       "      <td>BBBB</td>\n",
       "      <td>25</td>\n",
       "      <td>1</td>\n",
       "      <td>10</td>\n",
       "    </tr>\n",
       "  </tbody>\n",
       "</table>\n",
       "</div>"
      ],
      "text/plain": [
       "   Name  C1  C2  C3\n",
       "0  AAAA  25   2   1\n",
       "1  BBBB  25   1  10"
      ]
     },
     "execution_count": 35,
     "metadata": {},
     "output_type": "execute_result"
    }
   ],
   "source": [
    "data = {\"Name\": [\"AAAA\", \"BBBB\"],\n",
    "        \"C1\": [25, 25],\n",
    "        \"C2\": [2, 1],\n",
    "        \"C3\": [1, 10]}\n",
    "df = pd.DataFrame(data)\n",
    "df"
   ]
  },
  {
   "cell_type": "code",
   "execution_count": null,
   "metadata": {},
   "outputs": [],
   "source": []
  }
 ],
 "metadata": {
  "kernelspec": {
   "display_name": "Python 3",
   "language": "python",
   "name": "python3"
  },
  "language_info": {
   "codemirror_mode": {
    "name": "ipython",
    "version": 3
   },
   "file_extension": ".py",
   "mimetype": "text/x-python",
   "name": "python",
   "nbconvert_exporter": "python",
   "pygments_lexer": "ipython3",
   "version": "3.6.8"
  }
 },
 "nbformat": 4,
 "nbformat_minor": 2
}
