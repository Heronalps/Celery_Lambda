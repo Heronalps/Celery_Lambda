{
 "cells": [
  {
   "cell_type": "code",
   "execution_count": 17,
   "metadata": {},
   "outputs": [],
   "source": [
    "import os, sys, csv, re, importlib\n",
    "from itertools import product\n",
    "sys.path.insert(0, \"..\")\n",
    "from helpers.parsers import split_path"
   ]
  },
  {
   "cell_type": "code",
   "execution_count": 4,
   "metadata": {},
   "outputs": [],
   "source": [
    "def split_path(path):\n",
    "    # This regex captures filename after the last backslash\n",
    "    filename = re.search(\"(?!\\/)(?:.(?!\\/))*(?=\\.\\w*$)\", path).group(0)\n",
    "    path_prefix = re.search(\"(.*\\/)(?!.*\\/)\", path).group(0)\n",
    "    \n",
    "    return path_prefix, filename"
   ]
  },
  {
   "cell_type": "code",
   "execution_count": 37,
   "metadata": {},
   "outputs": [],
   "source": [
    "def create_event(config, PARAMETERS, CV_SETTINGS):\n",
    "    # Search for model with Cartisan Product of hyperparameters\n",
    "    parameter_lists = []\n",
    "    for parameter in PARAMETERS:\n",
    "        parameter_lists.append(getattr(config.Hyperparameter, parameter))\n",
    "    search_space = product(*parameter_lists)\n",
    "    \n",
    "    payload_list = []\n",
    "\n",
    "    for item in search_space:\n",
    "        payload = {}\n",
    "        for key, value in zip(PARAMETERS, list(item)):\n",
    "            payload[key.lower()] = value\n",
    "        payload_list.append(payload)\n",
    "\n",
    "    with open(\"parameter_mappings.csv\", \"a\") as f:\n",
    "        first_dict = payload_list[0]\n",
    "        w = csv.DictWriter(f, first_dict.keys())\n",
    "        w.writeheader()\n",
    "        for payload in payload_list:\n",
    "            w.writerow(payload)\n"
   ]
  },
  {
   "cell_type": "code",
   "execution_count": 11,
   "metadata": {},
   "outputs": [],
   "source": [
    "def parse_parameter_map(config_path):\n",
    "    \n",
    "    from execs import run_prophet\n",
    "    \n",
    "    # Dynamic importing config file from config_path\n",
    "    path_prefix, filename = split_path(config_path)\n",
    "    sys.path.insert(0, path_prefix)\n",
    "    config = importlib.import_module(filename)\n",
    "    \n",
    "    # Dynamic loading lambda name\n",
    "    LAMBDA_NAME = getattr(config.Cross_Validation, \"LAMBDA_NAME\")\n",
    "\n",
    "    # Dynamic load parameters \n",
    "    PARAMETERS = []\n",
    "    CV_SETTINGS = []\n",
    "    for key in dir(config.Hyperparameter):\n",
    "        if key.isupper():\n",
    "            PARAMETERS.append(key)\n",
    "    for key in dir(config.Cross_Validation):\n",
    "        if key.isupper():\n",
    "            CV_SETTINGS.append(key)\n",
    "\n",
    "    # Tune forecast horizon of the chosen model\n",
    "    create_event(config, PARAMETERS, CV_SETTINGS)"
   ]
  },
  {
   "cell_type": "code",
   "execution_count": 2,
   "metadata": {},
   "outputs": [],
   "source": [
    "def parse_prophet(file_names):\n",
    "    \n",
    "    for file_name in file_names:\n",
    "        with open(\"../cloudwatch/log_1549494805.txt\", \"r\") as f:\n",
    "            line = f.readline()\n",
    "            while line is not None:\n"
   ]
  },
  {
   "cell_type": "code",
   "execution_count": null,
   "metadata": {},
   "outputs": [],
   "source": [
    "file_names = os.listdir('../cloudwatch/Prophet/')\n",
    "parse_prophet(file_names)"
   ]
  },
  {
   "cell_type": "code",
   "execution_count": 36,
   "metadata": {},
   "outputs": [],
   "source": [
    "parse_parameter_map(\"/Users/michaelzhang/Downloads/Seneca/config/prophet/config.py\")"
   ]
  },
  {
   "cell_type": "code",
   "execution_count": null,
   "metadata": {},
   "outputs": [],
   "source": []
  }
 ],
 "metadata": {
  "kernelspec": {
   "display_name": "Python 3",
   "language": "python",
   "name": "python3"
  },
  "language_info": {
   "codemirror_mode": {
    "name": "ipython",
    "version": 3
   },
   "file_extension": ".py",
   "mimetype": "text/x-python",
   "name": "python",
   "nbconvert_exporter": "python",
   "pygments_lexer": "ipython3",
   "version": "3.6.8"
  }
 },
 "nbformat": 4,
 "nbformat_minor": 2
}
